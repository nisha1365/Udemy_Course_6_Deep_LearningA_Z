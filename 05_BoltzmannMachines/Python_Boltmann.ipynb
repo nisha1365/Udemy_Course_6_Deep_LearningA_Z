{
 "cells": [
  {
   "cell_type": "markdown",
   "metadata": {},
   "source": [
    "Links\n",
    "- http://setosa.io/ev/markov-chains/\n",
    "- https://www.analyticsvidhya.com/blog/2014/07/markov-chain-simplified/\n",
    "- https://deeplearning4j.org/restrictedboltzmannmachine"
   ]
  },
  {
   "cell_type": "code",
   "execution_count": 1,
   "metadata": {},
   "outputs": [],
   "source": [
    "import numpy as np\n",
    "import pandas as pd\n",
    "import torch\n",
    "import torch.nn as nn\n",
    "import torch.nn.parallel as parallel\n",
    "import torch.utils.data\n",
    "from torch.autograd import Variable\n"
   ]
  },
  {
   "cell_type": "code",
   "execution_count": 3,
   "metadata": {},
   "outputs": [],
   "source": [
    "# Importing the movies.dat dataset, user.dat dataset, rating.dat dataset\n",
    "movies_df = pd.read_csv(\"../archive/ml-1m/movies.dat\", \n",
    "                           sep=\"::\", header=None, engine=\"python\", encoding=\"latin-1\")\n",
    "\n",
    "users_df = pd.read_csv(\"../archive/ml-1m/users.dat\", \n",
    "                           sep=\"::\", header=None, engine=\"python\", encoding=\"latin-1\")\n",
    "\n",
    "ratings_df = pd.read_csv(\"../archive/ml-1m/ratings.dat\", \n",
    "                           sep=\"::\", header=None, engine=\"python\", encoding=\"latin-1\")"
   ]
  },
  {
   "cell_type": "code",
   "execution_count": 4,
   "metadata": {},
   "outputs": [],
   "source": [
    "# Preparing the training set and testing set\n",
    "training_set = pd.read_csv(\"../archive/ml-100k/u1.base\", delimiter=\"\\t\")\n",
    "training_set_array = np.array(training_set, dtype='int')\n",
    "\n",
    "testing_set = pd.read_csv(\"../archive/ml-100k/u1.test\", delimiter=\"\\t\")\n",
    "testing_set_array = np.array(testing_set, dtype='int')"
   ]
  },
  {
   "cell_type": "code",
   "execution_count": 5,
   "metadata": {},
   "outputs": [
    {
     "data": {
      "text/html": [
       "<div>\n",
       "<style scoped>\n",
       "    .dataframe tbody tr th:only-of-type {\n",
       "        vertical-align: middle;\n",
       "    }\n",
       "\n",
       "    .dataframe tbody tr th {\n",
       "        vertical-align: top;\n",
       "    }\n",
       "\n",
       "    .dataframe thead th {\n",
       "        text-align: right;\n",
       "    }\n",
       "</style>\n",
       "<table border=\"1\" class=\"dataframe\">\n",
       "  <thead>\n",
       "    <tr style=\"text-align: right;\">\n",
       "      <th></th>\n",
       "      <th>1</th>\n",
       "      <th>1.1</th>\n",
       "      <th>5</th>\n",
       "      <th>874965758</th>\n",
       "    </tr>\n",
       "  </thead>\n",
       "  <tbody>\n",
       "    <tr>\n",
       "      <th>0</th>\n",
       "      <td>1</td>\n",
       "      <td>2</td>\n",
       "      <td>3</td>\n",
       "      <td>876893171</td>\n",
       "    </tr>\n",
       "    <tr>\n",
       "      <th>1</th>\n",
       "      <td>1</td>\n",
       "      <td>3</td>\n",
       "      <td>4</td>\n",
       "      <td>878542960</td>\n",
       "    </tr>\n",
       "    <tr>\n",
       "      <th>2</th>\n",
       "      <td>1</td>\n",
       "      <td>4</td>\n",
       "      <td>3</td>\n",
       "      <td>876893119</td>\n",
       "    </tr>\n",
       "    <tr>\n",
       "      <th>3</th>\n",
       "      <td>1</td>\n",
       "      <td>5</td>\n",
       "      <td>3</td>\n",
       "      <td>889751712</td>\n",
       "    </tr>\n",
       "    <tr>\n",
       "      <th>4</th>\n",
       "      <td>1</td>\n",
       "      <td>7</td>\n",
       "      <td>4</td>\n",
       "      <td>875071561</td>\n",
       "    </tr>\n",
       "  </tbody>\n",
       "</table>\n",
       "</div>"
      ],
      "text/plain": [
       "   1  1.1  5  874965758\n",
       "0  1    2  3  876893171\n",
       "1  1    3  4  878542960\n",
       "2  1    4  3  876893119\n",
       "3  1    5  3  889751712\n",
       "4  1    7  4  875071561"
      ]
     },
     "execution_count": 5,
     "metadata": {},
     "output_type": "execute_result"
    }
   ],
   "source": [
    "training_set.head(5)"
   ]
  },
  {
   "cell_type": "code",
   "execution_count": 6,
   "metadata": {},
   "outputs": [
    {
     "data": {
      "text/html": [
       "<div>\n",
       "<style scoped>\n",
       "    .dataframe tbody tr th:only-of-type {\n",
       "        vertical-align: middle;\n",
       "    }\n",
       "\n",
       "    .dataframe tbody tr th {\n",
       "        vertical-align: top;\n",
       "    }\n",
       "\n",
       "    .dataframe thead th {\n",
       "        text-align: right;\n",
       "    }\n",
       "</style>\n",
       "<table border=\"1\" class=\"dataframe\">\n",
       "  <thead>\n",
       "    <tr style=\"text-align: right;\">\n",
       "      <th></th>\n",
       "      <th>1</th>\n",
       "      <th>6</th>\n",
       "      <th>5</th>\n",
       "      <th>887431973</th>\n",
       "    </tr>\n",
       "  </thead>\n",
       "  <tbody>\n",
       "    <tr>\n",
       "      <th>0</th>\n",
       "      <td>1</td>\n",
       "      <td>10</td>\n",
       "      <td>3</td>\n",
       "      <td>875693118</td>\n",
       "    </tr>\n",
       "    <tr>\n",
       "      <th>1</th>\n",
       "      <td>1</td>\n",
       "      <td>12</td>\n",
       "      <td>5</td>\n",
       "      <td>878542960</td>\n",
       "    </tr>\n",
       "    <tr>\n",
       "      <th>2</th>\n",
       "      <td>1</td>\n",
       "      <td>14</td>\n",
       "      <td>5</td>\n",
       "      <td>874965706</td>\n",
       "    </tr>\n",
       "    <tr>\n",
       "      <th>3</th>\n",
       "      <td>1</td>\n",
       "      <td>17</td>\n",
       "      <td>3</td>\n",
       "      <td>875073198</td>\n",
       "    </tr>\n",
       "    <tr>\n",
       "      <th>4</th>\n",
       "      <td>1</td>\n",
       "      <td>20</td>\n",
       "      <td>4</td>\n",
       "      <td>887431883</td>\n",
       "    </tr>\n",
       "  </tbody>\n",
       "</table>\n",
       "</div>"
      ],
      "text/plain": [
       "   1   6  5  887431973\n",
       "0  1  10  3  875693118\n",
       "1  1  12  5  878542960\n",
       "2  1  14  5  874965706\n",
       "3  1  17  3  875073198\n",
       "4  1  20  4  887431883"
      ]
     },
     "execution_count": 6,
     "metadata": {},
     "output_type": "execute_result"
    }
   ],
   "source": [
    "testing_set.head(5)"
   ]
  },
  {
   "cell_type": "code",
   "execution_count": 7,
   "metadata": {},
   "outputs": [],
   "source": [
    "# We will have to make the training set into a matrix where \n",
    "# the rows are the user, columns are the movies, and the values inside are the ratings\n",
    "\n",
    "# Getting the total number of users and movies\n",
    "# Column 1 is the user, Column 2 is the movies\n",
    "nb_users = int(max(max(training_set_array[:, 0]), max(testing_set_array[:, 0])))\n",
    "nb_movies = int(max(max(training_set_array[:, 1]), max(testing_set_array[:, 1])))"
   ]
  },
  {
   "cell_type": "code",
   "execution_count": 8,
   "metadata": {},
   "outputs": [],
   "source": [
    "# Converting the data into an array with users in rows and movies in columns\n",
    "# We will have to create a list with the sublist being every user with info. on their ratings for each movies\n",
    "\n",
    "def convert(data):\n",
    "    new_data = []\n",
    "    for id_users in range(1, nb_users+1):\n",
    "        id_movies = data[:, 1][data[:,0] == id_users]\n",
    "        id_ratings = data[:, 2][data[:,0] == id_users]\n",
    "        ratings = np.zeros(nb_movies) # initiliazing an array of all the ratings that could happen\n",
    "        ratings[id_movies-1] = id_ratings\n",
    "        new_data.append(list(ratings))\n",
    "    return new_data       "
   ]
  },
  {
   "cell_type": "code",
   "execution_count": 9,
   "metadata": {},
   "outputs": [],
   "source": [
    "# Coverting the arrays into a matrixs where the rows are the users, columns are the movies\n",
    "# and the values are the ratings\n",
    "\n",
    "training_set_array = convert(training_set_array)\n",
    "testing_set_array = convert(testing_set_array)"
   ]
  },
  {
   "cell_type": "code",
   "execution_count": 10,
   "metadata": {},
   "outputs": [
    {
     "data": {
      "text/plain": [
       "[0.0, 3.0, 4.0, 3.0, 3.0, 0.0, 4.0, 1.0, 5.0, 0.0]"
      ]
     },
     "execution_count": 10,
     "metadata": {},
     "output_type": "execute_result"
    }
   ],
   "source": [
    "# Example: 1st row with the first 10 movies\n",
    "\n",
    "training_set_array[0][0:10]"
   ]
  },
  {
   "cell_type": "code",
   "execution_count": 11,
   "metadata": {},
   "outputs": [],
   "source": [
    "# Torches are only one type of datatype in a multi-dimensions\n",
    "# Torches are a better way to create calculation \n",
    "\n",
    "training_set_array = torch.FloatTensor(training_set_array)\n",
    "testing_set_array = torch.FloatTensor(testing_set_array)"
   ]
  },
  {
   "cell_type": "code",
   "execution_count": 12,
   "metadata": {},
   "outputs": [
    {
     "data": {
      "text/plain": [
       "\n",
       "    0     3     4  ...      0     0     0\n",
       "    4     0     0  ...      0     0     0\n",
       "    0     0     0  ...      0     0     0\n",
       "       ...          ⋱          ...       \n",
       "    5     0     0  ...      0     0     0\n",
       "    0     0     0  ...      0     0     0\n",
       "    0     5     0  ...      0     0     0\n",
       "[torch.FloatTensor of size 943x1682]"
      ]
     },
     "execution_count": 12,
     "metadata": {},
     "output_type": "execute_result"
    }
   ],
   "source": [
    "training_set_array"
   ]
  },
  {
   "cell_type": "code",
   "execution_count": 13,
   "metadata": {},
   "outputs": [],
   "source": [
    "# The original dataset is binary (the user either liked the movie or did not)\n",
    "# As of now, the tensor and arrays are rated from 1 through 5 \n",
    "# Need to convert the ratings to binary (0 or 1)\n",
    "# We have to convert the 0's in the array to -1, since the 0's meant that the user did not rate the movie\n",
    "# However, the 0 will no longer mean that the 0 is non-existenting, rather, that the user did not like the movie\n",
    "# The OR condition does not work for the torch\n",
    "\n",
    "training_set_array[training_set_array==0] = -1\n",
    "training_set_array[training_set_array==1] = 0\n",
    "training_set_array[training_set_array==2] = 0\n",
    "training_set_array[training_set_array>=3] = 1\n",
    "\n",
    "\n",
    "# Following the same procedure for the testing set\n",
    "testing_set_array[testing_set_array==0] = -1\n",
    "testing_set_array[testing_set_array==1] = 0\n",
    "testing_set_array[testing_set_array==2] = 0\n",
    "testing_set_array[testing_set_array>=3] = 1"
   ]
  },
  {
   "cell_type": "code",
   "execution_count": 14,
   "metadata": {},
   "outputs": [],
   "source": [
    "# Creating a class for the Boltmann model\n",
    "# We must initialize the biased and weights randomly\n",
    "# One biases for each hidden node (we must create the 1 to make it into 2-dimensions)\n",
    "\n",
    "class RBM():\n",
    "    def __init__(self, num_hidden, num_vis):\n",
    "        \n",
    "        self.weights = torch.randn(num_hidden, num_vis)\n",
    "        self.h_biases = torch.randn(1, num_hidden)\n",
    "        self.v_biases = torch.randn(1, num_vis)\n",
    "        \n",
    "    # Intuition: prob_hidd_given_vis means the probability that the node is activated\n",
    "    # the hidden node is that the person liked the movie given some detection from the model \n",
    "    def sample_h(self, inputs):\n",
    "        weight_inputs = torch.mm(inputs, self.weights.t()) # mm is multiplication for torch\n",
    "        activation = weight_inputs + self.h_biases.expand_as(weight_inputs) # applying the hidden biases to the function\n",
    "        prob_hidd_given_vis = torch.sigmoid(activation)\n",
    "        return prob_hidd_given_vis, torch.bernoulli(prob_hidd_given_vis)\n",
    "        \n",
    "    def sample_v(self, outputs):\n",
    "        weight_outputs = torch.mm(outputs, self.weights) # mm is multiplication for torch\n",
    "        activation = weight_outputs + self.v_biases.expand_as(weight_outputs) # applying the hidden biases to the function\n",
    "        prob_vis_given_hidden = torch.sigmoid(activation)\n",
    "        return prob_vis_given_hidden, torch.bernoulli(prob_vis_given_hidden)\n",
    "    \n",
    "    def train(self, v0, vk, ph0, phk):\n",
    "        self.weights += torch.mm(v0.t(), ph0) - torch.mm(vk.t(), phk)\n",
    "        self.v_biases += torch.sum((v0-vk), 0)\n",
    "        self.h_biases += torch.sum((ph0-phk), 0)\n",
    "        \n",
    "    \n",
    "        "
   ]
  },
  {
   "cell_type": "code",
   "execution_count": 15,
   "metadata": {},
   "outputs": [],
   "source": [
    "num_vis = len(training_set_array[0])    \n",
    "num_hidden = 100\n",
    "batch_size = 100 # This will be changed (to tune the model)\n",
    "rbm = RBM(num_hidden, num_vis)\n"
   ]
  },
  {
   "cell_type": "code",
   "execution_count": 16,
   "metadata": {},
   "outputs": [
    {
     "name": "stderr",
     "output_type": "stream",
     "text": [
      "/Users/alexguanga/anaconda/lib/python3.6/site-packages/torch/tensor.py:309: UserWarning: other is not broadcastable to self, but they have the same number of elements.  Falling back to deprecated pointwise behavior.\n",
      "  return self.add_(other)\n"
     ]
    },
    {
     "name": "stdout",
     "output_type": "stream",
     "text": [
      "epoch: 1 loss: 0.292782468383304\n",
      "epoch: 2 loss: 0.2506081905793428\n",
      "epoch: 3 loss: 0.2510089601145487\n",
      "epoch: 4 loss: 0.2509116497231665\n",
      "epoch: 5 loss: 0.2475947649276612\n",
      "epoch: 6 loss: 0.249144544341306\n",
      "epoch: 7 loss: 0.2494170116171819\n",
      "epoch: 8 loss: 0.25170255367605454\n",
      "epoch: 9 loss: 0.24816046512647277\n",
      "epoch: 10 loss: 0.250907155826084\n"
     ]
    }
   ],
   "source": [
    "# Training the RBM model\n",
    "nb_epochs = 10\n",
    "for epoch in range(1, nb_epochs+1):\n",
    "    train_loss = 0\n",
    "    counter = 0.0\n",
    "    for id_user in range(0, nb_users-batch_size, batch_size):\n",
    "        vk = training_set_array[id_user:id_user+batch_size]\n",
    "        v0 = training_set_array[id_user:id_user+batch_size]\n",
    "        ph0, _ = rbm.sample_h(v0)\n",
    "        for k in range(10):\n",
    "            _, hk = rbm.sample_h(vk)\n",
    "            _, vk = rbm.sample_v(hk)\n",
    "            vk[v0<0] = v0[v0<0]\n",
    "        phk, _ = rbm.sample_h(vk)\n",
    "        rbm.train(v0, vk, ph0, phk)\n",
    "        train_loss += torch.mean(torch.abs(v0[v0>=0]-vk[v0>=0])) # prediction is vk, only need the variables that are positive\n",
    "        counter += 1.\n",
    "    print('epoch: ' + str(epoch) + ' loss: ' + str(train_loss/counter))"
   ]
  },
  {
   "cell_type": "code",
   "execution_count": 47,
   "metadata": {},
   "outputs": [],
   "source": [
    "# The loss is .25, meaning that we have a .75 correct prediction"
   ]
  },
  {
   "cell_type": "code",
   "execution_count": null,
   "metadata": {},
   "outputs": [],
   "source": []
  },
  {
   "cell_type": "code",
   "execution_count": 18,
   "metadata": {},
   "outputs": [
    {
     "name": "stdout",
     "output_type": "stream",
     "text": [
      "loss: 0.24028379609841521\n"
     ]
    }
   ],
   "source": [
    "# Using the model, trying to predict results for the testing set\n",
    "# Training the RBM model\n",
    "\n",
    "# Quick explanation: for every user in the testing set, we capture their visible node\n",
    "# then, we check their rating for the movies they rated\n",
    "# We use then sampled them for the hidden nodes\n",
    "# And also, use those hidden nodes to sample the visible nodes\n",
    "\n",
    "\n",
    "test_loss = 0\n",
    "counter = 0.0\n",
    "for id_user in range(nb_users): \n",
    "    v = training_set_array[id_user:id_user+1] # We need to use the training set to make the predictions\n",
    "    vt = testing_set_array[id_user:id_user+1] # the target variable, original rating of the testing set\n",
    "    if len(vt[vt>=0] > 0): # All the rating that are exisiting (not less than 0)\n",
    "        _, h = rbm.sample_h(v)\n",
    "        _, v = rbm.sample_v(h)\n",
    "\n",
    "        test_loss += torch.mean(torch.abs(vt[vt>=0]-v[vt>=0])) # prediction is vk, only need the variables that are positive\n",
    "        counter += 1.\n",
    "print('loss: ' + str(test_loss/counter))\n"
   ]
  }
 ],
 "metadata": {
  "kernelspec": {
   "display_name": "Python 3",
   "language": "python",
   "name": "python3"
  },
  "language_info": {
   "codemirror_mode": {
    "name": "ipython",
    "version": 3
   },
   "file_extension": ".py",
   "mimetype": "text/x-python",
   "name": "python",
   "nbconvert_exporter": "python",
   "pygments_lexer": "ipython3",
   "version": "3.6.5"
  }
 },
 "nbformat": 4,
 "nbformat_minor": 2
}
