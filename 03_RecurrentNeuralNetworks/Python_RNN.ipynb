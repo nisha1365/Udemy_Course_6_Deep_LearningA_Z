{
 "cells": [
  {
   "cell_type": "code",
   "execution_count": 6,
   "metadata": {},
   "outputs": [
    {
     "name": "stdout",
     "output_type": "stream",
     "text": [
      "5y\n"
     ]
    }
   ],
   "source": [
    "import pandas_datareader.data as web\n",
    "from datetime import datetime\n",
    "\n",
    "start = datetime(2013, 1, 1)\n",
    "end = datetime(2017, 12, 31)\n",
    "\n",
    "dataset_training = web.DataReader('GOOG', 'iex', start, end)\n",
    "dataset_training.reset_index(inplace=True) ## Changing the index value"
   ]
  },
  {
   "cell_type": "code",
   "execution_count": 7,
   "metadata": {
    "collapsed": true
   },
   "outputs": [],
   "source": [
    "training_set = dataset_training.loc[:, 'open'].values.reshape(-1,1)"
   ]
  },
  {
   "cell_type": "code",
   "execution_count": 8,
   "metadata": {
    "collapsed": true
   },
   "outputs": [],
   "source": [
    "# Feature Scaling\n",
    "# Standarisation: (x - mean(x)) )/ std dev\n",
    "# Normalisation: (x - min(x)) / max(x) - min(x)\n",
    "from sklearn.preprocessing import MinMaxScaler\n",
    "sc = MinMaxScaler(feature_range = (0,1))\n",
    "\n",
    "training_set_scaled = sc.fit_transform(training_set)"
   ]
  },
  {
   "cell_type": "code",
   "execution_count": 9,
   "metadata": {
    "collapsed": true
   },
   "outputs": [],
   "source": [
    "# Creating a data structure with 60 timestamps and 1 output\n",
    "# Thus, it will use the previous 60 days to find some kind of trend for the next day\n",
    "\n",
    "X_train = []\n",
    "y_train = []"
   ]
  },
  {
   "cell_type": "code",
   "execution_count": 10,
   "metadata": {
    "collapsed": true
   },
   "outputs": [],
   "source": [
    "# using the open stock price\n",
    "import numpy as np \n",
    "\n",
    "# Creating data sets where I will be using the previous 60 days to predict the next one (y_train)\n",
    "# Quick thoughts: Begin at 60, subract 60 (end at index=0), to i=60(upper bound is excluded)\n",
    "\n",
    "[X_train.append(training_set_scaled[i-60:i, 0]) for i in range(60, 949)]\n",
    "[y_train.append(training_set_scaled[i, 0]) for i in range(60, 949)]    \n",
    "\n",
    "X_train, y_train = np.array(X_train), np.array(y_train)"
   ]
  },
  {
   "cell_type": "code",
   "execution_count": 11,
   "metadata": {
    "collapsed": true
   },
   "outputs": [],
   "source": [
    "# Reshaping the data structure (combining it)\n",
    "\n",
    "# The first value is the value that we are reshaping\n",
    "\n",
    "# Under the keras documentation: \n",
    "# the batch size is the total # of observations that each stock we will be using\n",
    "# the time stamp is 60 (the total num of stocks)\n",
    "# input size is the measurement we will be using \n",
    "\n",
    "X_train = np.reshape(X_train, (X_train.shape[0], X_train.shape[1], 1))"
   ]
  },
  {
   "cell_type": "code",
   "execution_count": 12,
   "metadata": {},
   "outputs": [
    {
     "name": "stderr",
     "output_type": "stream",
     "text": [
      "/Users/alexguanga/anaconda/lib/python3.6/site-packages/h5py/__init__.py:34: FutureWarning: Conversion of the second argument of issubdtype from `float` to `np.floating` is deprecated. In future, it will be treated as `np.float64 == np.dtype(float).type`.\n",
      "  from ._conv import register_converters as _register_converters\n",
      "Using TensorFlow backend.\n"
     ]
    }
   ],
   "source": [
    "from keras.models import Sequential\n",
    "from keras.layers import Dense, LSTM, Dropout\n",
    "\n",
    "# Initialisizing the RNN\n",
    "regressor = Sequential()\n",
    "\n",
    "# Adding the first LSTM layer and some Dropout regularization\n",
    "\n",
    "# LSTM parameters:\n",
    "# Units -> How many nodes are created? (Layman: how many regression eqs. will be created?)\n",
    "regressor.add(LSTM(units=50, return_sequences=True, input_shape=(X_train.shape[1], 1)))\n",
    "\n",
    "# 20 percent will be dropped out from the RNN, they will be ignored (20 percent of 50 = 10 will be dropped)\n",
    "regressor.add(Dropout(.2))"
   ]
  },
  {
   "cell_type": "code",
   "execution_count": 13,
   "metadata": {
    "collapsed": true
   },
   "outputs": [],
   "source": [
    "# Adding the second LSTM layer and some Dropout regularization\n",
    "\n",
    "regressor.add(LSTM(units=50, return_sequences=True))\n",
    "regressor.add(Dropout(.2))"
   ]
  },
  {
   "cell_type": "code",
   "execution_count": 14,
   "metadata": {
    "collapsed": true
   },
   "outputs": [],
   "source": [
    "# Adding the third LSTM layer and some Dropout regularization\n",
    "\n",
    "regressor.add(LSTM(units=50, return_sequences=True))\n",
    "regressor.add(Dropout(.2))"
   ]
  },
  {
   "cell_type": "code",
   "execution_count": 15,
   "metadata": {
    "collapsed": true
   },
   "outputs": [],
   "source": [
    "# Adding the fourth LSTM layer and some Dropout regularization\n",
    "# We will not need anymore return values (last layer)\n",
    "\n",
    "regressor.add(LSTM(units=50))\n",
    "regressor.add(Dropout(.2))"
   ]
  },
  {
   "cell_type": "code",
   "execution_count": 16,
   "metadata": {
    "collapsed": true
   },
   "outputs": [],
   "source": [
    "# Adding the output layer\n",
    "regressor.add(Dense(units=1)) # The stock price we are prediciting is only one value"
   ]
  },
  {
   "cell_type": "code",
   "execution_count": 17,
   "metadata": {
    "collapsed": true
   },
   "outputs": [],
   "source": [
    "# Compiling the entire neural network\n",
    "# Will use mse to compile this regression\n",
    "\n",
    "regressor.compile(optimizer='Adam', loss='mean_squared_error')"
   ]
  },
  {
   "cell_type": "code",
   "execution_count": 18,
   "metadata": {},
   "outputs": [
    {
     "name": "stdout",
     "output_type": "stream",
     "text": [
      "Epoch 1/100\n",
      "889/889 [==============================] - 8s 9ms/step - loss: 0.0595\n",
      "Epoch 2/100\n",
      "889/889 [==============================] - 6s 7ms/step - loss: 0.0067\n",
      "Epoch 3/100\n",
      "889/889 [==============================] - 6s 7ms/step - loss: 0.0048\n",
      "Epoch 4/100\n",
      "889/889 [==============================] - 7s 8ms/step - loss: 0.0043\n",
      "Epoch 5/100\n",
      "889/889 [==============================] - 6s 7ms/step - loss: 0.0042\n",
      "Epoch 6/100\n",
      "889/889 [==============================] - 7s 8ms/step - loss: 0.0043\n",
      "Epoch 7/100\n",
      "889/889 [==============================] - 5s 6ms/step - loss: 0.0039\n",
      "Epoch 8/100\n",
      "889/889 [==============================] - 5s 6ms/step - loss: 0.0039\n",
      "Epoch 9/100\n",
      "889/889 [==============================] - 5s 6ms/step - loss: 0.0041\n",
      "Epoch 10/100\n",
      "889/889 [==============================] - 6s 6ms/step - loss: 0.0037\n",
      "Epoch 11/100\n",
      "889/889 [==============================] - 5s 6ms/step - loss: 0.0037\n",
      "Epoch 12/100\n",
      "889/889 [==============================] - 5s 6ms/step - loss: 0.0035\n",
      "Epoch 13/100\n",
      "889/889 [==============================] - 5s 6ms/step - loss: 0.0039\n",
      "Epoch 14/100\n",
      "889/889 [==============================] - 5s 6ms/step - loss: 0.0044\n",
      "Epoch 15/100\n",
      "889/889 [==============================] - 5s 6ms/step - loss: 0.0037\n",
      "Epoch 16/100\n",
      "889/889 [==============================] - 5s 6ms/step - loss: 0.0038\n",
      "Epoch 17/100\n",
      "889/889 [==============================] - 5s 6ms/step - loss: 0.0034\n",
      "Epoch 18/100\n",
      "889/889 [==============================] - 5s 6ms/step - loss: 0.0036\n",
      "Epoch 19/100\n",
      "889/889 [==============================] - 5s 6ms/step - loss: 0.0038\n",
      "Epoch 20/100\n",
      "889/889 [==============================] - 5s 6ms/step - loss: 0.0033\n",
      "Epoch 21/100\n",
      "889/889 [==============================] - 5s 6ms/step - loss: 0.0037\n",
      "Epoch 22/100\n",
      "889/889 [==============================] - 6s 7ms/step - loss: 0.0031\n",
      "Epoch 23/100\n",
      "889/889 [==============================] - 6s 7ms/step - loss: 0.0032\n",
      "Epoch 24/100\n",
      "889/889 [==============================] - 5s 6ms/step - loss: 0.0033\n",
      "Epoch 25/100\n",
      "889/889 [==============================] - 6s 6ms/step - loss: 0.0032\n",
      "Epoch 26/100\n",
      "889/889 [==============================] - 5s 6ms/step - loss: 0.0032\n",
      "Epoch 27/100\n",
      "889/889 [==============================] - 7s 7ms/step - loss: 0.0029\n",
      "Epoch 28/100\n",
      "889/889 [==============================] - 6s 7ms/step - loss: 0.0033\n",
      "Epoch 29/100\n",
      "889/889 [==============================] - 6s 6ms/step - loss: 0.0033\n",
      "Epoch 30/100\n",
      "889/889 [==============================] - 6s 7ms/step - loss: 0.0030\n",
      "Epoch 31/100\n",
      "889/889 [==============================] - 5s 6ms/step - loss: 0.0026\n",
      "Epoch 32/100\n",
      "889/889 [==============================] - 6s 7ms/step - loss: 0.0031\n",
      "Epoch 33/100\n",
      "889/889 [==============================] - 5s 6ms/step - loss: 0.0031\n",
      "Epoch 34/100\n",
      "889/889 [==============================] - 5s 6ms/step - loss: 0.0031\n",
      "Epoch 35/100\n",
      "889/889 [==============================] - 5s 5ms/step - loss: 0.0028\n",
      "Epoch 36/100\n",
      "889/889 [==============================] - 5s 5ms/step - loss: 0.0028\n",
      "Epoch 37/100\n",
      "889/889 [==============================] - 5s 6ms/step - loss: 0.0028\n",
      "Epoch 38/100\n",
      "889/889 [==============================] - 5s 6ms/step - loss: 0.0029\n",
      "Epoch 39/100\n",
      "889/889 [==============================] - 6s 7ms/step - loss: 0.0027\n",
      "Epoch 40/100\n",
      "889/889 [==============================] - 6s 7ms/step - loss: 0.0025\n",
      "Epoch 41/100\n",
      "889/889 [==============================] - 6s 7ms/step - loss: 0.0033\n",
      "Epoch 42/100\n",
      "889/889 [==============================] - 6s 6ms/step - loss: 0.0026\n",
      "Epoch 43/100\n",
      "889/889 [==============================] - 5s 6ms/step - loss: 0.0025\n",
      "Epoch 44/100\n",
      "889/889 [==============================] - 5s 6ms/step - loss: 0.0029\n",
      "Epoch 45/100\n",
      "889/889 [==============================] - 6s 7ms/step - loss: 0.0026\n",
      "Epoch 46/100\n",
      "889/889 [==============================] - 6s 6ms/step - loss: 0.0028\n",
      "Epoch 47/100\n",
      "889/889 [==============================] - 5s 6ms/step - loss: 0.0024\n",
      "Epoch 48/100\n",
      "889/889 [==============================] - 5s 6ms/step - loss: 0.0024\n",
      "Epoch 49/100\n",
      "889/889 [==============================] - 5s 6ms/step - loss: 0.0027\n",
      "Epoch 50/100\n",
      "889/889 [==============================] - 5s 6ms/step - loss: 0.0022\n",
      "Epoch 51/100\n",
      "889/889 [==============================] - 5s 6ms/step - loss: 0.0026\n",
      "Epoch 52/100\n",
      "889/889 [==============================] - 5s 6ms/step - loss: 0.0026\n",
      "Epoch 53/100\n",
      "889/889 [==============================] - 5s 6ms/step - loss: 0.0022\n",
      "Epoch 54/100\n",
      "889/889 [==============================] - 5s 6ms/step - loss: 0.0024\n",
      "Epoch 55/100\n",
      "889/889 [==============================] - 5s 6ms/step - loss: 0.0024\n",
      "Epoch 56/100\n",
      "889/889 [==============================] - 5s 6ms/step - loss: 0.0024\n",
      "Epoch 57/100\n",
      "889/889 [==============================] - 5s 6ms/step - loss: 0.0023\n",
      "Epoch 58/100\n",
      "889/889 [==============================] - 5s 6ms/step - loss: 0.0022\n",
      "Epoch 59/100\n",
      "889/889 [==============================] - 5s 6ms/step - loss: 0.0023\n",
      "Epoch 60/100\n",
      "889/889 [==============================] - 5s 6ms/step - loss: 0.0024\n",
      "Epoch 61/100\n",
      "889/889 [==============================] - 5s 6ms/step - loss: 0.0023\n",
      "Epoch 62/100\n",
      "889/889 [==============================] - 5s 6ms/step - loss: 0.0022\n",
      "Epoch 63/100\n",
      "889/889 [==============================] - 5s 6ms/step - loss: 0.0021\n",
      "Epoch 64/100\n",
      "889/889 [==============================] - 6s 6ms/step - loss: 0.0020\n",
      "Epoch 65/100\n",
      "889/889 [==============================] - 5s 6ms/step - loss: 0.0021\n",
      "Epoch 66/100\n",
      "889/889 [==============================] - 6s 6ms/step - loss: 0.0021\n",
      "Epoch 67/100\n",
      "889/889 [==============================] - 5s 6ms/step - loss: 0.0020\n",
      "Epoch 68/100\n",
      "889/889 [==============================] - 5s 6ms/step - loss: 0.0019\n",
      "Epoch 69/100\n",
      "889/889 [==============================] - 6s 6ms/step - loss: 0.0022\n",
      "Epoch 70/100\n",
      "889/889 [==============================] - 6s 7ms/step - loss: 0.0024\n",
      "Epoch 71/100\n",
      "889/889 [==============================] - 6s 7ms/step - loss: 0.0021\n",
      "Epoch 72/100\n",
      "889/889 [==============================] - 5s 6ms/step - loss: 0.0025\n",
      "Epoch 73/100\n",
      "889/889 [==============================] - 6s 7ms/step - loss: 0.0020\n",
      "Epoch 74/100\n",
      "889/889 [==============================] - 5s 6ms/step - loss: 0.0017\n",
      "Epoch 75/100\n",
      "889/889 [==============================] - 5s 6ms/step - loss: 0.0019\n",
      "Epoch 76/100\n",
      "889/889 [==============================] - 6s 6ms/step - loss: 0.0017\n",
      "Epoch 77/100\n",
      "889/889 [==============================] - 5s 6ms/step - loss: 0.0019\n",
      "Epoch 78/100\n",
      "889/889 [==============================] - 6s 6ms/step - loss: 0.0019\n",
      "Epoch 79/100\n",
      "889/889 [==============================] - 5s 5ms/step - loss: 0.0019\n",
      "Epoch 80/100\n",
      "889/889 [==============================] - 5s 5ms/step - loss: 0.0020\n",
      "Epoch 81/100\n",
      "889/889 [==============================] - 5s 5ms/step - loss: 0.0019\n",
      "Epoch 82/100\n",
      "889/889 [==============================] - 5s 6ms/step - loss: 0.0022\n",
      "Epoch 83/100\n",
      "889/889 [==============================] - 6s 6ms/step - loss: 0.0019\n",
      "Epoch 84/100\n",
      "889/889 [==============================] - 5s 6ms/step - loss: 0.0022\n",
      "Epoch 85/100\n",
      "889/889 [==============================] - 5s 5ms/step - loss: 0.0016\n",
      "Epoch 86/100\n",
      "889/889 [==============================] - 5s 6ms/step - loss: 0.0017\n",
      "Epoch 87/100\n",
      "889/889 [==============================] - 5s 6ms/step - loss: 0.0020\n",
      "Epoch 88/100\n",
      "889/889 [==============================] - 5s 5ms/step - loss: 0.0017\n",
      "Epoch 89/100\n",
      "889/889 [==============================] - 7s 8ms/step - loss: 0.0017\n",
      "Epoch 90/100\n",
      "889/889 [==============================] - 6s 7ms/step - loss: 0.0017\n",
      "Epoch 91/100\n",
      "889/889 [==============================] - 5s 5ms/step - loss: 0.0016\n",
      "Epoch 92/100\n",
      "889/889 [==============================] - 7s 8ms/step - loss: 0.0015\n",
      "Epoch 93/100\n",
      "889/889 [==============================] - 5s 5ms/step - loss: 0.0017\n",
      "Epoch 94/100\n",
      "889/889 [==============================] - 5s 6ms/step - loss: 0.0016\n",
      "Epoch 95/100\n",
      "889/889 [==============================] - 7s 8ms/step - loss: 0.0016\n",
      "Epoch 96/100\n",
      "889/889 [==============================] - 5s 5ms/step - loss: 0.0017\n",
      "Epoch 97/100\n",
      "889/889 [==============================] - 5s 5ms/step - loss: 0.0015\n",
      "Epoch 98/100\n",
      "889/889 [==============================] - 5s 5ms/step - loss: 0.0016\n",
      "Epoch 99/100\n"
     ]
    },
    {
     "name": "stdout",
     "output_type": "stream",
     "text": [
      "889/889 [==============================] - 8s 8ms/step - loss: 0.0014\n",
      "Epoch 100/100\n",
      "889/889 [==============================] - 5s 6ms/step - loss: 0.0018\n"
     ]
    },
    {
     "data": {
      "text/plain": [
       "<keras.callbacks.History at 0x1a230db940>"
      ]
     },
     "execution_count": 18,
     "metadata": {},
     "output_type": "execute_result"
    }
   ],
   "source": [
    "# Fitting the RNN to the training set\n",
    "regressor.fit(X_train, y_train, epochs=100, batch_size=32)"
   ]
  },
  {
   "cell_type": "code",
   "execution_count": 19,
   "metadata": {
    "collapsed": true
   },
   "outputs": [],
   "source": [
    "# Saving the model for future use\n",
    "\n",
    "regressor.save('my_model.h5')  # creates a HDF5 file 'my_model.h5'"
   ]
  },
  {
   "cell_type": "code",
   "execution_count": 20,
   "metadata": {},
   "outputs": [
    {
     "name": "stdout",
     "output_type": "stream",
     "text": [
      "1y\n"
     ]
    }
   ],
   "source": [
    "start = datetime(2018, 1, 1)\n",
    "end = datetime(2018, 5, 20)\n",
    "\n",
    "dataset_test = web.DataReader('GOOG', 'iex', start, end)\n",
    "dataset_test.reset_index(inplace=True) ## Changing the index value\n",
    "\n",
    "current_stock_price = dataset_test.loc[:, 'open'].values.reshape(-1,1)"
   ]
  },
  {
   "cell_type": "markdown",
   "metadata": {},
   "source": [
    "- Noticed that one of the issues we will have to deal with is combining the training set and the testing set. Given that the we will 60 previous days, we will have to find a method that we can concatenate both datasets with overfitting?\n"
   ]
  },
  {
   "cell_type": "code",
   "execution_count": 21,
   "metadata": {
    "collapsed": true
   },
   "outputs": [],
   "source": [
    "# Combining the training and testing set\n",
    "# One of the difficulties with doing this, is that we should never scale the testing set \n",
    "# but the training set is already scaled...\n",
    "import pandas as pd\n",
    "\n",
    "dataset_total = pd.concat([dataset_training['open'], dataset_test['open']], axis=0)\n"
   ]
  },
  {
   "cell_type": "code",
   "execution_count": 22,
   "metadata": {
    "collapsed": true
   },
   "outputs": [],
   "source": [
    "# 1045-96=949-60=889 (meaning we get the last value of the training function - 60 (time stamp))\n",
    "# We will use these values to predict for 2018...\n",
    "\n",
    "inputs = dataset_total[len(dataset_total) - len(dataset_test) - 60:].values\n",
    "inputs = inputs.reshape(-1,1)\n",
    "inputs = sc.transform(inputs)"
   ]
  },
  {
   "cell_type": "code",
   "execution_count": 23,
   "metadata": {
    "collapsed": true
   },
   "outputs": [],
   "source": [
    "# Evaulating the prediction for the predicted values\n",
    "X_test = []\n",
    "for i in range(60, 156): # To-date dates + 60\n",
    "    X_test.append(inputs[i-60:i, 0])\n",
    "    \n",
    "X_test = np.array(X_test)\n",
    "X_test = np.reshape(X_test, (X_test.shape[0], X_test.shape[1], 1))\n",
    "predicted_stock_price = regressor.predict(X_test)\n",
    "predicted_stock_price = sc.inverse_transform(predicted_stock_price)\n"
   ]
  },
  {
   "cell_type": "code",
   "execution_count": 24,
   "metadata": {},
   "outputs": [
    {
     "data": {
      "text/plain": [
       "array([[1032.3569],\n",
       "       [1030.7338],\n",
       "       [1032.6472],\n",
       "       [1040.536 ],\n",
       "       [1051.9718],\n",
       "       [1063.6721],\n",
       "       [1073.4141],\n",
       "       [1077.823 ],\n",
       "       [1078.6685],\n",
       "       [1077.2863]], dtype=float32)"
      ]
     },
     "execution_count": 24,
     "metadata": {},
     "output_type": "execute_result"
    }
   ],
   "source": [
    "# Quick example of the predicted values\n",
    "predicted_stock_price[0:10]"
   ]
  },
  {
   "cell_type": "code",
   "execution_count": 25,
   "metadata": {},
   "outputs": [
    {
     "data": {
      "image/png": "[encoded data removed]",
      "text/plain": [
       "<matplotlib.figure.Figure at 0x1a2572c860>"
      ]
     },
     "metadata": {},
     "output_type": "display_data"
    }
   ],
   "source": [
    "import matplotlib.pyplot as plt\n",
    "import seaborn as sns\n",
    "sns.set_style('whitegrid')\n",
    "\n",
    "%matplotlib inline\n",
    "# Plotting the real values against the predicted values\n",
    "plt.plot(current_stock_price, color=\"Red\", label=\"Real Google'Stock Price\")\n",
    "plt.plot(predicted_stock_price, color=\"Blue\", label=\"Predicted Google'Stock Price\")\n",
    "plt.title('Stock Price Prediciton')\n",
    "plt.xlabel(\"Time\")\n",
    "plt.ylabel(\"Price\")\n",
    "plt.legend()\n",
    "plt.show()"
   ]
  },
  {
   "cell_type": "code",
   "execution_count": 26,
   "metadata": {},
   "outputs": [
    {
     "data": {
      "text/plain": [
       "35.375540015032634"
      ]
     },
     "execution_count": 26,
     "metadata": {},
     "output_type": "execute_result"
    }
   ],
   "source": [
    "# One of the things of using the stock price, is that we might not care about the price of the stock\n",
    "# but the direction it is predicted \n",
    "\n",
    "# However, the rmse can be useful\n",
    "import math\n",
    "from sklearn.metrics import mean_squared_error\n",
    "\n",
    "rmse = math.sqrt(mean_squared_error(current_stock_price, predicted_stock_price))\n",
    "rmse"
   ]
  },
  {
   "cell_type": "code",
   "execution_count": 27,
   "metadata": {},
   "outputs": [],
   "source": [
    "current_stock_mean = np.mean(current_stock_price)"
   ]
  },
  {
   "cell_type": "code",
   "execution_count": 28,
   "metadata": {},
   "outputs": [
    {
     "data": {
      "text/plain": [
       "0.0326504548298826"
      ]
     },
     "execution_count": 28,
     "metadata": {},
     "output_type": "execute_result"
    }
   ],
   "source": [
    "# Relative mean_squared error\n",
    "rmse/current_stock_mean"
   ]
  },
  {
   "cell_type": "code",
   "execution_count": 29,
   "metadata": {},
   "outputs": [
    {
     "ename": "NameError",
     "evalue": "name 'KerasClassifier' is not defined",
     "output_type": "error",
     "traceback": [
      "\u001b[0;31m---------------------------------------------------------------------------\u001b[0m",
      "\u001b[0;31mNameError\u001b[0m                                 Traceback (most recent call last)",
      "\u001b[0;32m<ipython-input-29-a6dcf54ae5b1>\u001b[0m in \u001b[0;36m<module>\u001b[0;34m()\u001b[0m\n\u001b[0;32m----> 1\u001b[0;31m \u001b[0mclassifier\u001b[0m \u001b[0;34m=\u001b[0m \u001b[0mKerasClassifier\u001b[0m\u001b[0;34m(\u001b[0m\u001b[0mbuild_fn\u001b[0m\u001b[0;34m=\u001b[0m\u001b[0mbuild_classifier\u001b[0m\u001b[0;34m,\u001b[0m \u001b[0mbatch_size\u001b[0m\u001b[0;34m=\u001b[0m\u001b[0;36m30\u001b[0m\u001b[0;34m,\u001b[0m \u001b[0mepochs\u001b[0m\u001b[0;34m=\u001b[0m\u001b[0;36m500\u001b[0m\u001b[0;34m)\u001b[0m\u001b[0;34m\u001b[0m\u001b[0m\n\u001b[0m\u001b[1;32m      2\u001b[0m parameters = {\n\u001b[1;32m      3\u001b[0m     \u001b[0;34m'batch_size'\u001b[0m\u001b[0;34m:\u001b[0m \u001b[0;34m[\u001b[0m\u001b[0;36m20\u001b[0m\u001b[0;34m,\u001b[0m \u001b[0;36m25\u001b[0m\u001b[0;34m,\u001b[0m \u001b[0;36m30\u001b[0m\u001b[0;34m]\u001b[0m\u001b[0;34m,\u001b[0m\u001b[0;34m\u001b[0m\u001b[0m\n\u001b[1;32m      4\u001b[0m     \u001b[0;34m'epochs'\u001b[0m\u001b[0;34m:\u001b[0m \u001b[0;34m[\u001b[0m\u001b[0;36m100\u001b[0m\u001b[0;34m,\u001b[0m\u001b[0;36m300\u001b[0m\u001b[0;34m,\u001b[0m\u001b[0;36m500\u001b[0m\u001b[0;34m]\u001b[0m\u001b[0;34m,\u001b[0m\u001b[0;34m\u001b[0m\u001b[0m\n\u001b[1;32m      5\u001b[0m }\n",
      "\u001b[0;31mNameError\u001b[0m: name 'KerasClassifier' is not defined"
     ]
    }
   ],
   "source": [
    "classifier = KerasClassifier(build_fn=build_classifier, batch_size=30, epochs=500)\n",
    "parameters = {\n",
    "    'batch_size': [20, 25, 30],\n",
    "    'epochs': [100,300,500],\n",
    "}\n",
    "grid_search = GridSearchCV(param_grid=parameters,\n",
    "                            scoring='neg_mean_squared_error',\n",
    "                            cv=10,\n",
    "                            n_jobs=-1)\n",
    "\n",
    "grid_search = grid_search.fit(X_train, y_train)\n",
    "best_parameters = grid_search.best_params_\n",
    "best_accuracies = grid_search.best_score_\n",
    "print('{0} were the best parameters to use'.format(best_parameters))\n",
    "print('{0} was the accuracies'.format(best_accuracies))"
   ]
  }
 ],
 "metadata": {
  "kernelspec": {
   "display_name": "Python 3",
   "language": "python",
   "name": "python3"
  },
  "language_info": {
   "codemirror_mode": {
    "name": "ipython",
    "version": 3
   },
   "file_extension": ".py",
   "mimetype": "text/x-python",
   "name": "python",
   "nbconvert_exporter": "python",
   "pygments_lexer": "ipython3",
   "version": "3.6.0"
  }
 },
 "nbformat": 4,
 "nbformat_minor": 2
}
