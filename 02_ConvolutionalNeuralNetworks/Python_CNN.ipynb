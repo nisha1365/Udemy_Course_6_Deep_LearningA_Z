{
 "cells": [
  {
   "cell_type": "code",
   "execution_count": 2,
   "metadata": {
    "collapsed": true
   },
   "outputs": [],
   "source": [
    "# We will use Keras to import images efficiently\n",
    "# We only need to perform a structure for the images\n",
    "# Training set: 8000 images of dogs and cats (4000 images each)\n",
    "# Testing set: 2000 images of dogs and cats (1000 images each)"
   ]
  },
  {
   "cell_type": "code",
   "execution_count": 1,
   "metadata": {},
   "outputs": [
    {
     "name": "stderr",
     "output_type": "stream",
     "text": [
      "/Users/alexguanga/anaconda/lib/python3.6/site-packages/h5py/__init__.py:36: FutureWarning: Conversion of the second argument of issubdtype from `float` to `np.floating` is deprecated. In future, it will be treated as `np.float64 == np.dtype(float).type`.\n",
      "  from ._conv import register_converters as _register_converters\n",
      "Using TensorFlow backend.\n"
     ]
    }
   ],
   "source": [
    "# Feature is scaling is required in image recognition\n",
    "\n",
    "# This package is used to initialize the neural network. There are two methods to initialize\n",
    "# either as a sequence of layers or as a graph\n",
    "from keras.models import Sequential \n",
    "\n",
    "# Adding the Convolution2D network (videos are in 3D bc of time)\n",
    "from keras.layers import Convolution2D\n",
    "\n",
    "# Adding the process 2: pooling\n",
    "from keras.layers import MaxPooling2D\n",
    "\n",
    "from keras.layers import Flatten\n",
    "\n",
    "# Add the fully connected layers in a neural network\n",
    "from keras.layers import Dense"
   ]
  },
  {
   "cell_type": "code",
   "execution_count": 2,
   "metadata": {},
   "outputs": [],
   "source": [
    "# Initializing the CNN\n",
    "classifier = Sequential()"
   ]
  },
  {
   "cell_type": "code",
   "execution_count": 5,
   "metadata": {
    "collapsed": true
   },
   "outputs": [],
   "source": [
    "# Recall\n",
    "# Step 1 is applying the convolution with the feature map\n",
    "# where we find if the feature map \"matches\" with the pixels from the images\n",
    "# The larger the number, the more alike that portion of the image aligns with the feature map\n",
    "# We will do this with many feature maps as we would like\n",
    "\n",
    "\n",
    "# input size would be 1 if the image was black and white\n",
    "# input size would be 3 if the image was in color\n",
    "# for tensorflow backend, the order is the resolution, resolution, and layers\n",
    "\n",
    "classifier.add(Convolution2D(32, (3, 3), input_shape=(64, 64, 3), activation=\"relu\")) # filters is the # of feature maps, 3 by 3 dimension "
   ]
  },
  {
   "cell_type": "code",
   "execution_count": 6,
   "metadata": {
    "collapsed": true
   },
   "outputs": [],
   "source": [
    "# Feature map has a stride of one\n",
    "# Max pooling performs with a stride of two\n",
    "# We are getting the highest value for the specific dimension\n",
    "\n",
    "classifier.add(MaxPooling2D(pool_size=(2, 2)))"
   ]
  },
  {
   "cell_type": "code",
   "execution_count": 7,
   "metadata": {
    "collapsed": true
   },
   "outputs": [],
   "source": [
    "# Adding a second Convolution layer\n",
    "classifier.add(Convolution2D(32, (3, 3), activation=\"relu\")) \n",
    "classifier.add(MaxPooling2D(pool_size=(2, 2)))\n"
   ]
  },
  {
   "cell_type": "code",
   "execution_count": 8,
   "metadata": {
    "collapsed": true
   },
   "outputs": [],
   "source": [
    "# When we have our pooled feature (remember this only for one feature map and one feature pooling)\n",
    "# we have to create it into a vector!\n",
    "# In the example he provides, every osingl example of the vector is an input for the neural network\n",
    "# When we performed that flattening, we do not lose information on the spacial structure\n",
    "\n",
    "classifier.add(Flatten())"
   ]
  },
  {
   "cell_type": "code",
   "execution_count": 9,
   "metadata": {
    "collapsed": true
   },
   "outputs": [],
   "source": [
    "# We are performing the ANN using the vectors (spacial structure),\n",
    "# CNN helps us create the vectors and the ANN is used to build the predictions\n",
    "\n",
    "# Hidden layer\n",
    "classifier.add(Dense(units=128, activation='relu')) # 128 was set random by the author\n",
    "\n",
    "# Final layer\n",
    "classifier.add(Dense(units=1, activation='sigmoid')) # 128 was set random by the author"
   ]
  },
  {
   "cell_type": "code",
   "execution_count": 10,
   "metadata": {
    "collapsed": true
   },
   "outputs": [],
   "source": [
    "# Compliling the entire method\n",
    "\n",
    "classifier.compile(optimizer='adam', loss='binary_crossentropy', metrics=['accuracy'])"
   ]
  },
  {
   "cell_type": "code",
   "execution_count": 11,
   "metadata": {},
   "outputs": [
    {
     "name": "stdout",
     "output_type": "stream",
     "text": [
      "Found 8000 images belonging to 2 classes.\n",
      "Found 2000 images belonging to 2 classes.\n",
      "Epoch 1/25\n",
      "250/250 [==============================] - 116s 464ms/step - loss: 0.6892 - acc: 0.5433 - val_loss: 0.6641 - val_acc: 0.5865\n",
      "Epoch 2/25\n",
      "250/250 [==============================] - 112s 448ms/step - loss: 0.6315 - acc: 0.6474 - val_loss: 0.5995 - val_acc: 0.6900\n",
      "Epoch 3/25\n",
      "250/250 [==============================] - 113s 451ms/step - loss: 0.5860 - acc: 0.6919 - val_loss: 0.5480 - val_acc: 0.7150\n",
      "Epoch 4/25\n",
      "250/250 [==============================] - 107s 428ms/step - loss: 0.5456 - acc: 0.7181 - val_loss: 0.5223 - val_acc: 0.7405\n",
      "Epoch 5/25\n",
      "250/250 [==============================] - 109s 437ms/step - loss: 0.5163 - acc: 0.7481 - val_loss: 0.5834 - val_acc: 0.7055\n",
      "Epoch 6/25\n",
      "250/250 [==============================] - 106s 423ms/step - loss: 0.5010 - acc: 0.7580 - val_loss: 0.5107 - val_acc: 0.7490\n",
      "Epoch 7/25\n",
      "250/250 [==============================] - 101s 403ms/step - loss: 0.4822 - acc: 0.7707 - val_loss: 0.5427 - val_acc: 0.7390\n",
      "Epoch 8/25\n",
      "250/250 [==============================] - 107s 428ms/step - loss: 0.4673 - acc: 0.7789 - val_loss: 0.5479 - val_acc: 0.7420\n",
      "Epoch 9/25\n",
      "250/250 [==============================] - 97s 388ms/step - loss: 0.4397 - acc: 0.7984 - val_loss: 0.4932 - val_acc: 0.7685\n",
      "Epoch 10/25\n",
      "250/250 [==============================] - 103s 411ms/step - loss: 0.4314 - acc: 0.8048 - val_loss: 0.4691 - val_acc: 0.7825\n",
      "Epoch 11/25\n",
      "250/250 [==============================] - 102s 407ms/step - loss: 0.4288 - acc: 0.7996 - val_loss: 0.5314 - val_acc: 0.7515\n",
      "Epoch 12/25\n",
      "250/250 [==============================] - 103s 411ms/step - loss: 0.4178 - acc: 0.8035 - val_loss: 0.4703 - val_acc: 0.7850\n",
      "Epoch 13/25\n",
      "250/250 [==============================] - 103s 410ms/step - loss: 0.4059 - acc: 0.8170 - val_loss: 0.5388 - val_acc: 0.7610\n",
      "Epoch 14/25\n",
      "250/250 [==============================] - 103s 413ms/step - loss: 0.3999 - acc: 0.8230 - val_loss: 0.5009 - val_acc: 0.7810\n",
      "Epoch 15/25\n",
      "250/250 [==============================] - 106s 423ms/step - loss: 0.3772 - acc: 0.8307 - val_loss: 0.4565 - val_acc: 0.8015\n",
      "Epoch 16/25\n",
      "250/250 [==============================] - 97s 388ms/step - loss: 0.3694 - acc: 0.8324 - val_loss: 0.4835 - val_acc: 0.7990\n",
      "Epoch 17/25\n",
      "250/250 [==============================] - 105s 421ms/step - loss: 0.3515 - acc: 0.8454 - val_loss: 0.4901 - val_acc: 0.7890\n",
      "Epoch 18/25\n",
      "250/250 [==============================] - 116s 466ms/step - loss: 0.3339 - acc: 0.8493 - val_loss: 0.5233 - val_acc: 0.7820\n",
      "Epoch 19/25\n",
      "250/250 [==============================] - 111s 444ms/step - loss: 0.3338 - acc: 0.8516 - val_loss: 0.4699 - val_acc: 0.7945\n",
      "Epoch 20/25\n",
      "250/250 [==============================] - 110s 440ms/step - loss: 0.3331 - acc: 0.8505 - val_loss: 0.4596 - val_acc: 0.8000\n",
      "Epoch 21/25\n",
      "250/250 [==============================] - 131s 526ms/step - loss: 0.3115 - acc: 0.8641 - val_loss: 0.5556 - val_acc: 0.7765\n",
      "Epoch 22/25\n",
      "250/250 [==============================] - 107s 429ms/step - loss: 0.3013 - acc: 0.8669 - val_loss: 0.5039 - val_acc: 0.7940\n",
      "Epoch 23/25\n",
      "250/250 [==============================] - 111s 443ms/step - loss: 0.2934 - acc: 0.8717 - val_loss: 0.4849 - val_acc: 0.8025\n",
      "Epoch 24/25\n",
      "250/250 [==============================] - 114s 456ms/step - loss: 0.2758 - acc: 0.8811 - val_loss: 0.5143 - val_acc: 0.7965\n",
      "Epoch 25/25\n",
      "250/250 [==============================] - 110s 442ms/step - loss: 0.2767 - acc: 0.8800 - val_loss: 0.5129 - val_acc: 0.8050\n"
     ]
    },
    {
     "data": {
      "text/plain": [
       "<keras.callbacks.History at 0x1818030e10>"
      ]
     },
     "execution_count": 11,
     "metadata": {},
     "output_type": "execute_result"
    }
   ],
   "source": [
    "# Image recognition helps us better understand the data by randoming pixels and structure to images\n",
    "\n",
    "from keras.preprocessing.image import ImageDataGenerator\n",
    "train_datagen = ImageDataGenerator(\n",
    "        rescale=1./255, # Normalizing the scale of the pixels\n",
    "        shear_range=0.2,\n",
    "        zoom_range=0.2,\n",
    "        horizontal_flip=True)\n",
    "\n",
    "test_datagen = ImageDataGenerator(rescale=1./255)\n",
    "\n",
    "training_set = train_datagen.flow_from_directory('../archive/training_set',\n",
    "                                                 target_size=(64, 64),\n",
    "                                                 batch_size=32,\n",
    "                                                 class_mode='binary')\n",
    "\n",
    "test_set = test_datagen.flow_from_directory('../archive/test_set',\n",
    "                                            target_size=(64, 64),\n",
    "                                            batch_size=32,\n",
    "                                            class_mode='binary')\n",
    "\n",
    "classifier.fit_generator(training_set,\n",
    "                         steps_per_epoch = (8000/32),\n",
    "                         epochs = 25,\n",
    "                         validation_data = test_set,\n",
    "                         validation_steps = (2000/32))"
   ]
  },
  {
   "cell_type": "code",
   "execution_count": 12,
   "metadata": {
    "collapsed": true
   },
   "outputs": [],
   "source": [
    "# Recall the the acc is the accuracy of the training set and the val_acc over the training set"
   ]
  },
  {
   "cell_type": "code",
   "execution_count": 13,
   "metadata": {
    "collapsed": true
   },
   "outputs": [],
   "source": [
    "# Prediction a set of images"
   ]
  },
  {
   "cell_type": "code",
   "execution_count": 14,
   "metadata": {
    "collapsed": true
   },
   "outputs": [],
   "source": [
    "import numpy as np\n",
    "from keras.preprocessing import image\n",
    "test_image = image.load_img('../archive/predict_set/dog_or_cat_01.jpg', target_size= (64,64))\n",
    "\n",
    "# Changing the input of the size...\n",
    "test_image = image.img_to_array(test_image)\n",
    "\n",
    "# Adding a new dimension (the placement of the image in the batchsize)\n",
    "test_image = np.expand_dims(test_image, axis=0)\n",
    "\n",
    "result = classifier.predict(test_image)\n",
    "# Viewing what the binary numbers mean\n",
    "training_set.class_indices\n",
    "\n",
    "if result[0][0] == 1: \n",
    "    prediction = \"Dog\"\n",
    "else:\n",
    "    prediction = \"Cat\"\n",
    "    \n",
    "        "
   ]
  },
  {
   "cell_type": "code",
   "execution_count": null,
   "metadata": {
    "collapsed": true
   },
   "outputs": [],
   "source": []
  }
 ],
 "metadata": {
  "kernelspec": {
   "display_name": "Python 3",
   "language": "python",
   "name": "python3"
  },
  "language_info": {
   "codemirror_mode": {
    "name": "ipython",
    "version": 3
   },
   "file_extension": ".py",
   "mimetype": "text/x-python",
   "name": "python",
   "nbconvert_exporter": "python",
   "pygments_lexer": "ipython3",
   "version": "3.6.5"
  }
 },
 "nbformat": 4,
 "nbformat_minor": 2
}
