{
 "cells": [
  {
   "cell_type": "code",
   "execution_count": null,
   "metadata": {
    "collapsed": true
   },
   "outputs": [],
   "source": [
    "# The goal is to create a geodemographic segmentation!\n",
    "# The purpose of the project is to understand whether a customer will act a certain (binary response)\n",
    "\n",
    "\n",
    "# In marketing, geodemographic segmentation is a multivariate statistical \n",
    "# classification technique for discovering whether the individuals of a population fall \n",
    "# into different groups by making quantitative comparisons of multiple characteristics with the assumption \n",
    "# that the differences within any group should be less than the differences between groups."
   ]
  }
 ],
 "metadata": {
  "kernelspec": {
   "display_name": "Python 3",
   "language": "python",
   "name": "python3"
  },
  "language_info": {
   "codemirror_mode": {
    "name": "ipython",
    "version": 3
   },
   "file_extension": ".py",
   "mimetype": "text/x-python",
   "name": "python",
   "nbconvert_exporter": "python",
   "pygments_lexer": "ipython3",
   "version": "3.6.0"
  }
 },
 "nbformat": 4,
 "nbformat_minor": 2
}
